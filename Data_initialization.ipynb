{
 "cells": [
  {
   "cell_type": "code",
   "execution_count": 364,
   "metadata": {},
   "outputs": [],
   "source": [
    "import pandas as pd\n",
    "import yfinance as yf\n",
    "import datetime\n",
    "import time\n",
    "import numpy\n",
    "import requests\n",
    "import io\n",
    "import talib\n",
    "from talib import MA_Type\n",
    "import vnquant.data as dt"
   ]
  },
  {
   "cell_type": "code",
   "execution_count": 365,
   "metadata": {},
   "outputs": [],
   "source": [
    "ticker = 'AMZN'\n",
    "start = datetime.datetime(2012,1,1)\n",
    "end = datetime.datetime(2022,1,1)"
   ]
  },
  {
   "cell_type": "code",
   "execution_count": 366,
   "metadata": {},
   "outputs": [],
   "source": [
    "# loader = dt.DataLoader(ticker, '2012-01-01','2022-01-01')\n",
    "# data = loader.download()\n",
    "# data.head()\n",
    "# stock = data"
   ]
  },
  {
   "cell_type": "code",
   "execution_count": 367,
   "metadata": {},
   "outputs": [],
   "source": [
    "stock = yf.download\n",
    "tickerData = yf.Ticker(ticker)\n",
    "#get the historical prices for this ticker\n",
    "stock = tickerData.history(period='1d', start=start, end=end)"
   ]
  },
  {
   "cell_type": "code",
   "execution_count": 368,
   "metadata": {},
   "outputs": [],
   "source": [
    "# del stock['Dividends']\n",
    "# del stock['Stock Splits']"
   ]
  },
  {
   "cell_type": "code",
   "execution_count": 369,
   "metadata": {},
   "outputs": [
    {
     "data": {
      "text/html": [
       "<div>\n",
       "<style scoped>\n",
       "    .dataframe tbody tr th:only-of-type {\n",
       "        vertical-align: middle;\n",
       "    }\n",
       "\n",
       "    .dataframe tbody tr th {\n",
       "        vertical-align: top;\n",
       "    }\n",
       "\n",
       "    .dataframe thead th {\n",
       "        text-align: right;\n",
       "    }\n",
       "</style>\n",
       "<table border=\"1\" class=\"dataframe\">\n",
       "  <thead>\n",
       "    <tr style=\"text-align: right;\">\n",
       "      <th></th>\n",
       "      <th>Open</th>\n",
       "      <th>High</th>\n",
       "      <th>Low</th>\n",
       "      <th>Close</th>\n",
       "      <th>Volume</th>\n",
       "      <th>Dividends</th>\n",
       "      <th>Stock Splits</th>\n",
       "    </tr>\n",
       "    <tr>\n",
       "      <th>Date</th>\n",
       "      <th></th>\n",
       "      <th></th>\n",
       "      <th></th>\n",
       "      <th></th>\n",
       "      <th></th>\n",
       "      <th></th>\n",
       "      <th></th>\n",
       "    </tr>\n",
       "  </thead>\n",
       "  <tbody>\n",
       "    <tr>\n",
       "      <th>2012-01-03</th>\n",
       "      <td>8.794500</td>\n",
       "      <td>8.974000</td>\n",
       "      <td>8.777500</td>\n",
       "      <td>8.951500</td>\n",
       "      <td>102216000</td>\n",
       "      <td>0</td>\n",
       "      <td>0</td>\n",
       "    </tr>\n",
       "    <tr>\n",
       "      <th>2012-01-04</th>\n",
       "      <td>8.960500</td>\n",
       "      <td>9.025000</td>\n",
       "      <td>8.803500</td>\n",
       "      <td>8.875500</td>\n",
       "      <td>84104000</td>\n",
       "      <td>0</td>\n",
       "      <td>0</td>\n",
       "    </tr>\n",
       "    <tr>\n",
       "      <th>2012-01-05</th>\n",
       "      <td>8.797000</td>\n",
       "      <td>8.912500</td>\n",
       "      <td>8.702500</td>\n",
       "      <td>8.880500</td>\n",
       "      <td>76182000</td>\n",
       "      <td>0</td>\n",
       "      <td>0</td>\n",
       "    </tr>\n",
       "    <tr>\n",
       "      <th>2012-01-06</th>\n",
       "      <td>8.903500</td>\n",
       "      <td>9.232500</td>\n",
       "      <td>8.875000</td>\n",
       "      <td>9.130500</td>\n",
       "      <td>140168000</td>\n",
       "      <td>0</td>\n",
       "      <td>0</td>\n",
       "    </tr>\n",
       "    <tr>\n",
       "      <th>2012-01-09</th>\n",
       "      <td>9.138000</td>\n",
       "      <td>9.218500</td>\n",
       "      <td>8.850000</td>\n",
       "      <td>8.928000</td>\n",
       "      <td>101138000</td>\n",
       "      <td>0</td>\n",
       "      <td>0</td>\n",
       "    </tr>\n",
       "    <tr>\n",
       "      <th>...</th>\n",
       "      <td>...</td>\n",
       "      <td>...</td>\n",
       "      <td>...</td>\n",
       "      <td>...</td>\n",
       "      <td>...</td>\n",
       "      <td>...</td>\n",
       "      <td>...</td>\n",
       "    </tr>\n",
       "    <tr>\n",
       "      <th>2021-12-27</th>\n",
       "      <td>171.037003</td>\n",
       "      <td>172.942993</td>\n",
       "      <td>169.215500</td>\n",
       "      <td>169.669495</td>\n",
       "      <td>58688000</td>\n",
       "      <td>0</td>\n",
       "      <td>0</td>\n",
       "    </tr>\n",
       "    <tr>\n",
       "      <th>2021-12-28</th>\n",
       "      <td>170.182495</td>\n",
       "      <td>172.175995</td>\n",
       "      <td>169.135498</td>\n",
       "      <td>170.660995</td>\n",
       "      <td>54638000</td>\n",
       "      <td>0</td>\n",
       "      <td>0</td>\n",
       "    </tr>\n",
       "    <tr>\n",
       "      <th>2021-12-29</th>\n",
       "      <td>170.839996</td>\n",
       "      <td>171.212006</td>\n",
       "      <td>168.600494</td>\n",
       "      <td>169.201004</td>\n",
       "      <td>35754000</td>\n",
       "      <td>0</td>\n",
       "      <td>0</td>\n",
       "    </tr>\n",
       "    <tr>\n",
       "      <th>2021-12-30</th>\n",
       "      <td>169.699997</td>\n",
       "      <td>170.888000</td>\n",
       "      <td>168.524002</td>\n",
       "      <td>168.644501</td>\n",
       "      <td>37584000</td>\n",
       "      <td>0</td>\n",
       "      <td>0</td>\n",
       "    </tr>\n",
       "    <tr>\n",
       "      <th>2021-12-31</th>\n",
       "      <td>168.955994</td>\n",
       "      <td>169.350006</td>\n",
       "      <td>166.558502</td>\n",
       "      <td>166.716995</td>\n",
       "      <td>47830000</td>\n",
       "      <td>0</td>\n",
       "      <td>0</td>\n",
       "    </tr>\n",
       "  </tbody>\n",
       "</table>\n",
       "<p>2517 rows × 7 columns</p>\n",
       "</div>"
      ],
      "text/plain": [
       "                  Open        High         Low       Close     Volume  \\\n",
       "Date                                                                    \n",
       "2012-01-03    8.794500    8.974000    8.777500    8.951500  102216000   \n",
       "2012-01-04    8.960500    9.025000    8.803500    8.875500   84104000   \n",
       "2012-01-05    8.797000    8.912500    8.702500    8.880500   76182000   \n",
       "2012-01-06    8.903500    9.232500    8.875000    9.130500  140168000   \n",
       "2012-01-09    9.138000    9.218500    8.850000    8.928000  101138000   \n",
       "...                ...         ...         ...         ...        ...   \n",
       "2021-12-27  171.037003  172.942993  169.215500  169.669495   58688000   \n",
       "2021-12-28  170.182495  172.175995  169.135498  170.660995   54638000   \n",
       "2021-12-29  170.839996  171.212006  168.600494  169.201004   35754000   \n",
       "2021-12-30  169.699997  170.888000  168.524002  168.644501   37584000   \n",
       "2021-12-31  168.955994  169.350006  166.558502  166.716995   47830000   \n",
       "\n",
       "            Dividends  Stock Splits  \n",
       "Date                                 \n",
       "2012-01-03          0             0  \n",
       "2012-01-04          0             0  \n",
       "2012-01-05          0             0  \n",
       "2012-01-06          0             0  \n",
       "2012-01-09          0             0  \n",
       "...               ...           ...  \n",
       "2021-12-27          0             0  \n",
       "2021-12-28          0             0  \n",
       "2021-12-29          0             0  \n",
       "2021-12-30          0             0  \n",
       "2021-12-31          0             0  \n",
       "\n",
       "[2517 rows x 7 columns]"
      ]
     },
     "execution_count": 369,
     "metadata": {},
     "output_type": "execute_result"
    }
   ],
   "source": [
    "stock"
   ]
  },
  {
   "cell_type": "code",
   "execution_count": 370,
   "metadata": {},
   "outputs": [],
   "source": [
    "down_future = yf.download('YM=F', start=start, end=end, progress=False, interval= '1d')\n",
    "down_future_close = down_future['Close']\n",
    "sp500 = yf.download('ES=F', start=start, end=end, progress=False, interval= '1d')\n",
    "sp500_close = sp500['Close']\n",
    "\n",
    "nasdaq = yf.download('NQ=F', start=start, end=end, progress=False, interval= '1d')\n",
    "nasdaq_close = nasdaq['Close']\n",
    "\n",
    "russel = yf.download('RTY=F', start=start, end=end, progress=False, interval= '1d')\n",
    "russel_close = russel['Close']\n",
    "\n",
    "\n",
    "#add to stock\n",
    "stock['Down-F'] = down_future_close\n",
    "stock['Sp500'] = sp500_close\n",
    "stock['Nasdaq'] = nasdaq_close\n",
    "stock['Russel'] = russel_close\n",
    "\n"
   ]
  },
  {
   "cell_type": "code",
   "execution_count": 371,
   "metadata": {},
   "outputs": [],
   "source": [
    "NVDA = yf.download('NVDA', start=start, end=end, progress=False, interval= '1d')\n",
    "NVDA_close = NVDA['Close']\n",
    "AMD = yf.download('AMD', start=start, end=end, progress=False, interval= '1d')\n",
    "AMD_close = AMD['Close']\n",
    "AVGO = yf.download('AVGO', start=start, end=end, progress=False, interval= '1d')\n",
    "AVGO_close = AVGO['Close']\n",
    "QCOM = yf.download('QCOM', start=start, end=end, progress=False, interval= '1d')\n",
    "QCOM_close = QCOM['Close']\n",
    "\n",
    "#add to stock\n",
    "stock['NVDA'] = NVDA_close\n",
    "stock['AMD'] = AMD_close\n",
    "stock['AVGO'] = AVGO_close\n",
    "stock['QCOM'] = QCOM_close"
   ]
  },
  {
   "cell_type": "code",
   "execution_count": 372,
   "metadata": {},
   "outputs": [],
   "source": [
    "silver = yf.download('SI=F', start=start, end=end, progress=False, interval= '1d')\n",
    "silver_close = silver['Close']\n",
    "eur_usd = yf.download('EURUSD=X', start=start, end=end, progress=False, interval= '1d')\n",
    "eur_usd_close = eur_usd['Close']\n",
    "nikkei = yf.download('^N225', start=start, end=end, progress=False, interval= '1d')\n",
    "nikkei_close = nikkei['Close']\n",
    "gpb_usd = yf.download('GBPUSD=X', start=start, end=end, progress=False, interval= '1d')\n",
    "gpb_usd_close = gpb_usd['Close']\n",
    "usd_jpy = yf.download('JPY=X', start=start, end=end, progress=False, interval= '1d')\n",
    "usd_jpy_close = usd_jpy['Close']\n",
    "ftse = yf.download('^FTSE', start=start, end=end, progress=False, interval= '1d')\n",
    "ftse_close = ftse['Close']\n",
    "iron_steel = yf.download('^DJUSST', start=start, end=end, progress=False, interval= '1d')\n",
    "iron_steel = iron_steel['Close']\n",
    "gold = yf.download('GC=F', start=start, end=end, progress=False, interval= '1d')\n",
    "gold_close = gold['Close']\n",
    "oil = yf.download('CL=F', start=start, end=end, progress=False, interval= '1d')\n",
    "oil_close = oil['Close']\n",
    "aud_usd = yf.download('AUDUSD=X', start=start, end=end, progress=False, interval= '1d')\n",
    "aud_usd_close = aud_usd['Close']\n",
    "\n",
    "micro_gold = yf.download('MGC=F', start=start, end=end, progress=False, interval= '1d')\n",
    "micro_gold_close = micro_gold ['Close']\n",
    "precious_metal = yf.download('^DJGSP', start=start, end=end, progress=False, interval= '1d')\n",
    "precious_metal_close = precious_metal ['Close']\n",
    "\n",
    "\n",
    "#add to stock\n",
    "stock['Gold'] = gold_close\n",
    "stock['MGC_Gold'] = micro_gold_close\n",
    "stock['Silver'] = silver_close\n",
    "stock['Eur_usd'] = eur_usd_close\n",
    "stock['Nikkei'] = nikkei_close\n",
    "stock['Gpb_usd'] = gpb_usd_close\n",
    "stock['Aud_usd'] = aud_usd_close\n",
    "stock['Usd_jpy'] = usd_jpy_close\n",
    "stock['Fste'] = ftse_close\n",
    "stock['Iron_steel'] = iron_steel\n",
    "stock['Oil'] = oil_close"
   ]
  },
  {
   "cell_type": "code",
   "execution_count": 373,
   "metadata": {},
   "outputs": [],
   "source": [
    "BTC_USD = yf.download('BTC-USD', start=start, end=end, progress=False, interval= '1d')\n",
    "BTC_USD = BTC_USD['Close']\n",
    "BTC_USD = yf.download('ETH-USD', start=start, end=end, progress=False, interval= '1d')\n",
    "BTC_USD = BTC_USD['Close']\n",
    "\n",
    "#add to stock\n",
    "stock['BTC-USD'] = BTC_USD\n",
    "stock['Eur_usd'] = eur_usd_close"
   ]
  },
  {
   "cell_type": "code",
   "execution_count": 374,
   "metadata": {},
   "outputs": [],
   "source": [
    "sugar = yf.download('SB=F', start=start, end=end, progress=False, interval= '1d')\n",
    "sugar_close = sugar['Close']\n",
    "natural_gas = yf.download('NG=F', start=start, end=end, progress=False, interval= '1d')\n",
    "natural_gas_close = natural_gas['Close']\n",
    "corn_future = yf.download('ZC=F', start=start, end=end, progress=False, interval= '1d')\n",
    "corn_future_close = corn_future['Close']\n",
    "coffe = yf.download('KC=F', start=start, end=end, progress=False, interval= '1d')\n",
    "coffe_close = coffe['Close']\n",
    "feeder_future = yf.download('GF=F', start=start, end=end, progress=False, interval= '1d')\n",
    "feeder_future_close = feeder_future['Close']\n",
    "vix = yf.download('^VIX', start=start, end=end, progress=False, interval= '1d')\n",
    "vix_close = vix['Close']\n",
    "tnx = yf.download('^TNX', start=start, end=end, progress=False, interval= '1d')\n",
    "tnx_close = tnx['Close']\n",
    "bzf = yf.download('BZ=F', start=start, end=end, progress=False, interval= '1d')\n",
    "bzf_close = bzf['Close']\n",
    "ojF = yf.download('OJ=F', start=start, end=end, progress=False, interval= '1d')\n",
    "ojF_close = ojF['Close']\n",
    "\n",
    "\n",
    "#add to stock\n",
    "stock['Sugar'] = sugar_close\n",
    "stock['Nat_Gas'] = natural_gas_close\n",
    "stock['Corn-F'] = corn_future_close\n",
    "stock['Coffe-F'] = coffe_close\n",
    "stock['Feeder-F'] = feeder_future_close\n",
    "stock['Vix'] = vix_close\n",
    "stock['Tnx'] = tnx_close\n",
    "stock['Bzf'] = bzf_close\n"
   ]
  },
  {
   "cell_type": "code",
   "execution_count": 375,
   "metadata": {},
   "outputs": [],
   "source": [
    "close = stock['Close'].values\n",
    "high = stock['High'].values\n",
    "low = stock['Low'].values\n",
    "open = stock['Open'].values\n",
    "volume = stock['Volume'].values"
   ]
  },
  {
   "cell_type": "code",
   "execution_count": 376,
   "metadata": {},
   "outputs": [],
   "source": [
    "close = numpy.array(close, dtype=float).reshape(( -1, ))\n",
    "high = numpy.array(high, dtype=float).reshape(( -1, ))\n",
    "low = numpy.array(low, dtype=float).reshape(( -1, ))\n",
    "open = numpy.array(open, dtype=float).reshape(( -1, ))\n",
    "volume = numpy.array(volume, dtype=float).reshape(( -1, ))"
   ]
  },
  {
   "cell_type": "code",
   "execution_count": 377,
   "metadata": {},
   "outputs": [],
   "source": [
    "upper_bb, middle_bb, lower_bb = talib.BBANDS(close, matype=MA_Type.T3)\n",
    "stock['Upper_bb'] = upper_bb\n",
    "stock['Middle_bb'] = middle_bb\n",
    "stock['Lower_bb'] = lower_bb"
   ]
  },
  {
   "cell_type": "code",
   "execution_count": 378,
   "metadata": {},
   "outputs": [],
   "source": [
    "sma = talib.SMA(close)\n",
    "stock['Sma'] = sma"
   ]
  },
  {
   "cell_type": "code",
   "execution_count": 379,
   "metadata": {},
   "outputs": [],
   "source": [
    "mom5 = talib.MOM(close, timeperiod=5)\n",
    "mom10 = talib.MOM(close, timeperiod=10)\n",
    "mom15 = talib.MOM(close, timeperiod=15)\n",
    "mom20 = talib.MOM(close, timeperiod=20)\n",
    "stock['Mom5'] = mom5\n",
    "stock['Mom10'] = mom10\n",
    "stock['Mom15'] = mom15\n",
    "stock['Mom20'] = mom20"
   ]
  },
  {
   "cell_type": "code",
   "execution_count": 380,
   "metadata": {},
   "outputs": [],
   "source": [
    "slowk, slowd = talib.STOCH(high, low, close, fastk_period=5, slowk_period=3, slowk_matype=0, slowd_period=3, slowd_matype=0)\n",
    "stock['Slow_k'] = slowk\n",
    "stock['Slow_d'] = slowd"
   ]
  },
  {
   "cell_type": "code",
   "execution_count": 381,
   "metadata": {},
   "outputs": [],
   "source": [
    "fastk, fastd = talib.STOCHF(high, low, close, fastk_period=5, fastd_period=3, fastd_matype=0)\n",
    "stock['Fast_k'] = fastk\n",
    "stock['Fast_d'] = fastd"
   ]
  },
  {
   "cell_type": "code",
   "execution_count": 382,
   "metadata": {},
   "outputs": [],
   "source": [
    "trix = talib.TRIX(close, timeperiod=30)\n",
    "stock['Trix'] = trix"
   ]
  },
  {
   "cell_type": "code",
   "execution_count": 383,
   "metadata": {},
   "outputs": [],
   "source": [
    "williamR = talib.WILLR(high, low, close, timeperiod=14)\n",
    "stock['William_R'] = williamR"
   ]
  },
  {
   "cell_type": "code",
   "execution_count": 384,
   "metadata": {},
   "outputs": [],
   "source": [
    "rocr = talib.ROCR(close, timeperiod=10)\n",
    "stock['Rocr'] = rocr"
   ]
  },
  {
   "cell_type": "code",
   "execution_count": 385,
   "metadata": {},
   "outputs": [],
   "source": [
    "pro = talib.PPO(close, fastperiod=12, slowperiod=26, matype=0)\n",
    "stock['Pro'] = pro"
   ]
  },
  {
   "cell_type": "code",
   "execution_count": 386,
   "metadata": {},
   "outputs": [],
   "source": [
    "mfi = talib.MFI(high, low, close, volume, timeperiod=14)\n",
    "stock['Mfi'] = mfi"
   ]
  },
  {
   "cell_type": "code",
   "execution_count": 387,
   "metadata": {},
   "outputs": [],
   "source": [
    "macd, macdsignal, macdhist = talib.MACD(close, fastperiod=12, slowperiod=26, signalperiod=9)\n",
    "stock['Macd'] = macd\n",
    "stock['Macd_sig'] = macdsignal"
   ]
  },
  {
   "cell_type": "code",
   "execution_count": 388,
   "metadata": {},
   "outputs": [],
   "source": [
    "apo = talib.APO(close, fastperiod=12, slowperiod=26, matype=0)\n",
    "stock['Apo'] = apo"
   ]
  },
  {
   "cell_type": "code",
   "execution_count": 389,
   "metadata": {},
   "outputs": [],
   "source": [
    "aroondown, aroonup = talib.AROON(high, low, timeperiod=14)\n",
    "stock['Aroon_up'] = aroondown\n",
    "stock['Aroon_down'] = aroonup"
   ]
  },
  {
   "cell_type": "code",
   "execution_count": 390,
   "metadata": {},
   "outputs": [],
   "source": [
    "cci = talib.CCI(high, low, close, timeperiod=14)\n",
    "stock['Cci'] = cci"
   ]
  },
  {
   "cell_type": "code",
   "execution_count": 391,
   "metadata": {},
   "outputs": [],
   "source": [
    "cmo = talib.CMO(close, timeperiod=14)\n",
    "stock['Cmo'] = cmo"
   ]
  },
  {
   "cell_type": "code",
   "execution_count": 392,
   "metadata": {},
   "outputs": [],
   "source": [
    "Dx = talib.DX(high, low, close, timeperiod=14)\n",
    "stock['Dx'] = Dx"
   ]
  },
  {
   "cell_type": "code",
   "execution_count": 393,
   "metadata": {},
   "outputs": [],
   "source": [
    "ultosc = talib.ULTOSC(high, low, close, timeperiod1=7, timeperiod2=14, timeperiod3=28)\n",
    "stock['Ultosc'] = ultosc"
   ]
  },
  {
   "cell_type": "code",
   "execution_count": 394,
   "metadata": {},
   "outputs": [],
   "source": [
    "stock['Name'] = ticker"
   ]
  },
  {
   "cell_type": "code",
   "execution_count": 395,
   "metadata": {},
   "outputs": [],
   "source": [
    "del stock['High']\n",
    "del stock['Low']\n",
    "del stock['Name']"
   ]
  },
  {
   "cell_type": "code",
   "execution_count": 396,
   "metadata": {},
   "outputs": [
    {
     "data": {
      "text/plain": [
       "59"
      ]
     },
     "execution_count": 396,
     "metadata": {},
     "output_type": "execute_result"
    }
   ],
   "source": [
    "len(stock.columns)"
   ]
  },
  {
   "cell_type": "code",
   "execution_count": 397,
   "metadata": {},
   "outputs": [],
   "source": [
    "#export DataFrame to CSV file\n",
    "stock.to_csv(f'Processed_{ticker}.csv', index=True)"
   ]
  },
  {
   "cell_type": "code",
   "execution_count": null,
   "metadata": {},
   "outputs": [],
   "source": []
  }
 ],
 "metadata": {
  "interpreter": {
   "hash": "204e519246e34e95b1e7aafb3e433ef9f210934eeacc8fcc16367d3e60856afa"
  },
  "kernelspec": {
   "display_name": "Python 3.8.10 64-bit",
   "language": "python",
   "name": "python3"
  },
  "language_info": {
   "codemirror_mode": {
    "name": "ipython",
    "version": 3
   },
   "file_extension": ".py",
   "mimetype": "text/x-python",
   "name": "python",
   "nbconvert_exporter": "python",
   "pygments_lexer": "ipython3",
   "version": "3.8.10"
  },
  "orig_nbformat": 4
 },
 "nbformat": 4,
 "nbformat_minor": 2
}
